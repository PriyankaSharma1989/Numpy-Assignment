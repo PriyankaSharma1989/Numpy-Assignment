{
 "cells": [
  {
   "cell_type": "markdown",
   "id": "4d466497",
   "metadata": {},
   "source": [
    "# 1. Create a null vector of size 10 but the fifth value which is 1.\n",
    "import numpy as np\n"
   ]
  },
  {
   "cell_type": "code",
   "execution_count": 2,
   "id": "f8b51de9",
   "metadata": {},
   "outputs": [],
   "source": [
    "a=np.array([1,2,3,4])"
   ]
  },
  {
   "cell_type": "code",
   "execution_count": 3,
   "id": "d04f11d5",
   "metadata": {},
   "outputs": [
    {
     "data": {
      "text/plain": [
       "array([1, 2, 3, 4])"
      ]
     },
     "execution_count": 3,
     "metadata": {},
     "output_type": "execute_result"
    }
   ],
   "source": [
    "a"
   ]
  },
  {
   "cell_type": "code",
   "execution_count": 4,
   "id": "30594706",
   "metadata": {},
   "outputs": [],
   "source": [
    "a=np.random.randint(1,10,8)"
   ]
  },
  {
   "cell_type": "code",
   "execution_count": 5,
   "id": "a9c78fad",
   "metadata": {},
   "outputs": [
    {
     "data": {
      "text/plain": [
       "array([8, 6, 9, 8, 8, 3, 7, 3])"
      ]
     },
     "execution_count": 5,
     "metadata": {},
     "output_type": "execute_result"
    }
   ],
   "source": [
    "a"
   ]
  },
  {
   "cell_type": "code",
   "execution_count": 8,
   "id": "362dc6e6",
   "metadata": {},
   "outputs": [
    {
     "data": {
      "text/plain": [
       "array([0, 0, 0, 0, 1, 0, 0, 0, 0, 0])"
      ]
     },
     "execution_count": 8,
     "metadata": {},
     "output_type": "execute_result"
    }
   ],
   "source": [
    "a=np.zeros((10), dtype=int) \n",
    "a[4]=1\n",
    "a"
   ]
  },
  {
   "cell_type": "markdown",
   "id": "6892c907",
   "metadata": {},
   "source": [
    "# 2. Create a vector with values ranging from 10 to 49.\n",
    "x=np.arange(10,49)"
   ]
  },
  {
   "cell_type": "code",
   "execution_count": 10,
   "id": "0cba6d00",
   "metadata": {},
   "outputs": [
    {
     "data": {
      "text/plain": [
       "array([10, 11, 12, 13, 14, 15, 16, 17, 18, 19, 20, 21, 22, 23, 24, 25, 26,\n",
       "       27, 28, 29, 30, 31, 32, 33, 34, 35, 36, 37, 38, 39, 40, 41, 42, 43,\n",
       "       44, 45, 46, 47, 48])"
      ]
     },
     "execution_count": 10,
     "metadata": {},
     "output_type": "execute_result"
    }
   ],
   "source": [
    "x"
   ]
  },
  {
   "cell_type": "markdown",
   "id": "94170608",
   "metadata": {},
   "source": [
    "# 3. Create a 3x3 matrix with values ranging from 0 to 8\n",
    "\n",
    "y=np.arange(0,8)"
   ]
  },
  {
   "cell_type": "code",
   "execution_count": 23,
   "id": "7ab130f4",
   "metadata": {},
   "outputs": [
    {
     "data": {
      "text/plain": [
       "array([0, 1, 2, 3, 4, 5, 6, 7])"
      ]
     },
     "execution_count": 23,
     "metadata": {},
     "output_type": "execute_result"
    }
   ],
   "source": [
    "y"
   ]
  },
  {
   "cell_type": "code",
   "execution_count": 29,
   "id": "134145fc",
   "metadata": {},
   "outputs": [
    {
     "data": {
      "text/plain": [
       "array([[3, 1, 1],\n",
       "       [4, 0, 3],\n",
       "       [1, 1, 2]])"
      ]
     },
     "execution_count": 29,
     "metadata": {},
     "output_type": "execute_result"
    }
   ],
   "source": [
    "np.random.randint(0,8,(3,3))"
   ]
  },
  {
   "cell_type": "markdown",
   "id": "2a06d619",
   "metadata": {},
   "source": [
    "# 4. Find indices of non-zero elements from [1,2,0,0,4,0]\n",
    "\n",
    "x=np.array([1,2,0,0,4,0])\n",
    "x"
   ]
  },
  {
   "cell_type": "code",
   "execution_count": 34,
   "id": "1ecf3763",
   "metadata": {},
   "outputs": [
    {
     "data": {
      "text/plain": [
       "(array([0, 1, 4], dtype=int64),)"
      ]
     },
     "execution_count": 34,
     "metadata": {},
     "output_type": "execute_result"
    }
   ],
   "source": [
    "np.nonzero(x)"
   ]
  },
  {
   "cell_type": "markdown",
   "id": "d03a899b",
   "metadata": {},
   "source": [
    " # 5. Create a 10x10 array with random values and find the minimum and maximum values.\n",
    " \n",
    " m=np.random.randint(1,100,(10,10))\n",
    " "
   ]
  },
  {
   "cell_type": "code",
   "execution_count": 44,
   "id": "e0331b09",
   "metadata": {},
   "outputs": [
    {
     "data": {
      "text/plain": [
       "array([[23, 24, 23, 91, 72, 37, 36, 80, 33, 89],\n",
       "       [ 6, 15, 52, 49, 76,  4, 63, 41, 22, 10],\n",
       "       [85, 57, 98, 18, 80, 84, 16, 38, 68, 12],\n",
       "       [12, 35, 96, 47, 45, 28, 84, 33, 63, 42],\n",
       "       [52,  2, 19, 27, 96, 42, 99, 94, 14, 46],\n",
       "       [83, 87, 98, 62, 49, 55, 68, 47, 70, 25],\n",
       "       [82, 64, 73, 88, 81, 37, 60, 26, 29, 17],\n",
       "       [ 4, 57, 95,  2,  6, 81, 97, 91, 34, 85],\n",
       "       [39, 23, 16, 74, 84, 96, 33, 66, 76, 75],\n",
       "       [88, 59, 38, 51, 73, 75, 96, 80, 96, 82]])"
      ]
     },
     "execution_count": 44,
     "metadata": {},
     "output_type": "execute_result"
    }
   ],
   "source": [
    "m"
   ]
  },
  {
   "cell_type": "code",
   "execution_count": 45,
   "id": "94169033",
   "metadata": {},
   "outputs": [
    {
     "name": "stdout",
     "output_type": "stream",
     "text": [
      "2\n",
      "99\n"
     ]
    }
   ],
   "source": [
    "print(np.min(m))\n",
    "print(np.max(m))"
   ]
  },
  {
   "cell_type": "markdown",
   "id": "fae783b4",
   "metadata": {},
   "source": [
    "# 6. Create a random vector of size 30 and find the mean value.\n"
   ]
  },
  {
   "cell_type": "code",
   "execution_count": 52,
   "id": "b6d1fc68",
   "metadata": {},
   "outputs": [
    {
     "data": {
      "text/plain": [
       "array([0.90749557, 0.77546563, 0.6948138 , 0.75186888, 0.37215348,\n",
       "       0.36742361, 0.54939441, 0.92610504, 0.5672032 , 0.12133117,\n",
       "       0.49873643, 0.27933452, 0.04907853, 0.62581116, 0.94480512,\n",
       "       0.51561632, 0.04417807, 0.7664664 , 0.78360277, 0.65879161,\n",
       "       0.47351927, 0.66428994, 0.60043336, 0.52191932, 0.41085369,\n",
       "       0.31621481, 0.43294133, 0.5640602 , 0.4764859 , 0.91682693])"
      ]
     },
     "execution_count": 52,
     "metadata": {},
     "output_type": "execute_result"
    }
   ],
   "source": [
    "\n",
    "p=np.random.random(30)\n",
    "p\n"
   ]
  },
  {
   "cell_type": "code",
   "execution_count": 53,
   "id": "8278e67e",
   "metadata": {},
   "outputs": [
    {
     "data": {
      "text/plain": [
       "0.5525740153134513"
      ]
     },
     "execution_count": 53,
     "metadata": {},
     "output_type": "execute_result"
    }
   ],
   "source": [
    "p.mean()"
   ]
  },
  {
   "cell_type": "code",
   "execution_count": null,
   "id": "49028d55",
   "metadata": {},
   "outputs": [],
   "source": []
  }
 ],
 "metadata": {
  "kernelspec": {
   "display_name": "Python 3 (ipykernel)",
   "language": "python",
   "name": "python3"
  },
  "language_info": {
   "codemirror_mode": {
    "name": "ipython",
    "version": 3
   },
   "file_extension": ".py",
   "mimetype": "text/x-python",
   "name": "python",
   "nbconvert_exporter": "python",
   "pygments_lexer": "ipython3",
   "version": "3.9.12"
  }
 },
 "nbformat": 4,
 "nbformat_minor": 5
}
